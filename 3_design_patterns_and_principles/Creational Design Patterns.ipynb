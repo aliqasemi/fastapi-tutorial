{
 "cells": [
  {
   "cell_type": "markdown",
   "id": "a1e874e8",
   "metadata": {},
   "source": [
    "# Creational Patterns"
   ]
  },
  {
   "cell_type": "markdown",
   "id": "448b6ff3",
   "metadata": {},
   "source": [
    "## Builder\n",
    "\n",
    "* when piecewise object construction is complicated, provide an API for doing it succinctly "
   ]
  },
  {
   "cell_type": "code",
   "execution_count": 3,
   "id": "04a43a79",
   "metadata": {},
   "outputs": [
    {
     "name": "stdout",
     "output_type": "stream",
     "text": [
      "Dmitri born on 1/1/1980 works as a quant\n"
     ]
    }
   ],
   "source": [
    "class Person:\n",
    "    def __init__(self):\n",
    "        self.name = None\n",
    "        self.position = None\n",
    "        self.date_of_birth = None\n",
    "\n",
    "    def __str__(self):\n",
    "        return f'{self.name} born on {self.date_of_birth} works as a {self.position}'\n",
    "\n",
    "    #@staticmethod\n",
    "    #def new():\n",
    "     #   return PersonBuilder()\n",
    "\n",
    "class PersonBuilder:\n",
    "    def __init__(self):\n",
    "        self.person = Person()\n",
    "\n",
    "    def build(self):\n",
    "        return self.person\n",
    "\n",
    "\n",
    "class PersonInfoBuilder(PersonBuilder):\n",
    "    def called(self, name):\n",
    "        self.person.name = name\n",
    "        return self\n",
    "\n",
    "\n",
    "class PersonJobBuilder(PersonInfoBuilder):\n",
    "    def works_as_a(self, position):\n",
    "        self.person.position = position\n",
    "        return self\n",
    "\n",
    "\n",
    "class PersonBirthDateBuilder(PersonJobBuilder):\n",
    "    def born(self, date_of_birth):\n",
    "        self.person.date_of_birth = date_of_birth\n",
    "        return self\n",
    "\n",
    "\n",
    "if __name__ == '__main__':\n",
    "    pb = PersonBirthDateBuilder()\n",
    "    me = pb\\\n",
    "        .called('Dmitri')\\\n",
    "        .works_as_a('quant')\\\n",
    "        .born('1/1/1980')\\\n",
    "        .build()  # this does NOT work in C#/C++/Java/...\n",
    "    print(me)\n"
   ]
  },
  {
   "cell_type": "markdown",
   "id": "0d6fe78d",
   "metadata": {},
   "source": [
    "## Factories\n",
    "\n",
    "* factory method is typicaally any method which creates an object"
   ]
  },
  {
   "cell_type": "code",
   "execution_count": 1,
   "id": "6dab8c6a",
   "metadata": {},
   "outputs": [
    {
     "name": "stdout",
     "output_type": "stream",
     "text": [
      "x: 2, y: 3 x: 1, y: 2 x: 5, y: 6 x: 7, y: 8\n"
     ]
    }
   ],
   "source": [
    "from enum import Enum\n",
    "from math import *\n",
    "\n",
    "\n",
    "class CoordinateSystem(Enum):\n",
    "    CARTESIAN = 1\n",
    "    POLAR = 2\n",
    "\n",
    "\n",
    "class Point:\n",
    "    # def __init__(self, x, y):\n",
    "    #     self.x = x\n",
    "    #     self.y = y\n",
    "\n",
    "    def __str__(self):\n",
    "        return f'x: {self.x}, y: {self.y}'\n",
    "\n",
    "    # redeclaration won't work\n",
    "    # def __init__(self, rho, theta):\n",
    "\n",
    "    def __init__(self, a, b, system=CoordinateSystem.CARTESIAN):\n",
    "        if system == CoordinateSystem.CARTESIAN:\n",
    "            self.x = a\n",
    "            self.y = b\n",
    "        elif system == CoordinateSystem.POLAR:\n",
    "            self.x = a * sin(b)\n",
    "            self.y = a * cos(b)\n",
    "\n",
    "        # steps to add a new system\n",
    "        # 1. augment CoordinateSystem\n",
    "        # 2. change init method\n",
    "\n",
    "    @staticmethod\n",
    "    def new_cartesian_point(x, y):\n",
    "        return Point(x, y)\n",
    "\n",
    "    @staticmethod\n",
    "    def new_polar_point(rho, theta):\n",
    "        return Point(rho * sin(theta), rho * cos(theta))\n",
    "\n",
    "    class Factory:\n",
    "        @staticmethod\n",
    "        def new_cartesian_point(x, y):\n",
    "            return Point(x, y)\n",
    "\n",
    "    factory = Factory()\n",
    "\n",
    "# take out factory methods to a separate class\n",
    "class PointFactory:\n",
    "    @staticmethod\n",
    "    def new_cartesian_point(x, y):\n",
    "        return Point(x, y)\n",
    "\n",
    "    @staticmethod\n",
    "    def new_polar_point(rho, theta):\n",
    "        return Point(rho * sin(theta), rho * cos(theta))\n",
    "\n",
    "\n",
    "if __name__ == '__main__':\n",
    "    p1 = Point(2, 3, CoordinateSystem.CARTESIAN)\n",
    "    p2 = PointFactory.new_cartesian_point(1, 2)\n",
    "    # or you can expose factory through the type\n",
    "    p3 = Point.Factory.new_cartesian_point(5, 6)\n",
    "    p4 = Point.factory.new_cartesian_point(7, 8)\n",
    "    print(p1, p2, p3, p4)\n"
   ]
  },
  {
   "cell_type": "code",
   "execution_count": 2,
   "id": "703aee75",
   "metadata": {},
   "outputs": [
    {
     "data": {
      "text/plain": [
       "'Abstract Factory'"
      ]
     },
     "execution_count": 2,
     "metadata": {},
     "output_type": "execute_result"
    }
   ],
   "source": [
    "\"\"\"Abstract Factory\"\"\"\n",
    "from abc import ABC\n",
    "from enum import Enum, auto\n",
    "\n",
    "\n",
    "class HotDrink(ABC):\n",
    "    def consume(self):\n",
    "        pass\n",
    "\n",
    "\n",
    "class Tea(HotDrink):\n",
    "    def consume(self):\n",
    "        print('This tea is nice but I\\'d prefer it with milk')\n",
    "\n",
    "\n",
    "class Coffee(HotDrink):\n",
    "    def consume(self):\n",
    "        print('This coffee is delicious')\n",
    "\n",
    "\n",
    "class HotDrinkFactory(ABC):\n",
    "    def prepare(self, amount):\n",
    "        pass\n",
    "\n",
    "\n",
    "class TeaFactory(HotDrinkFactory):\n",
    "    def prepare(self, amount):\n",
    "        print(f'Put in tea bag, boil water, pour {amount}ml, enjoy!')\n",
    "        return Tea()\n",
    "\n",
    "\n",
    "class CoffeeFactory(HotDrinkFactory):\n",
    "    def prepare(self, amount):\n",
    "        print(f'Grind some beans, boil water, pour {amount}ml, enjoy!')\n",
    "        return Coffee()\n",
    "\n",
    "\n",
    "class HotDrinkMachine:\n",
    "    class AvailableDrink(Enum):  # violates OCP\n",
    "        COFFEE = auto()\n",
    "        TEA = auto()\n",
    "\n",
    "    factories = []\n",
    "    initialized = False\n",
    "\n",
    "    def __init__(self):\n",
    "        if not self.initialized:\n",
    "            self.initialized = True\n",
    "            for d in self.AvailableDrink:\n",
    "                name = d.name[0] + d.name[1:].lower()\n",
    "                factory_name = name + 'Factory'\n",
    "                factory_instance = eval(factory_name)()\n",
    "                self.factories.append((name, factory_instance))\n",
    "\n",
    "\n",
    "\n",
    "\n",
    "\n",
    "    def make_drink(self):\n",
    "        print('Available drinks:')\n",
    "        for f in self.factories:\n",
    "            print(f[0])\n",
    "\n",
    "        s = input(f'Please pick drink (0-{len(self.factories)-1}): ')\n",
    "        idx = int(s)\n",
    "        s = input(f'Specify amount: ')\n",
    "        amount = int(s)\n",
    "        return self.factories[idx][1].prepare(amount)\n",
    "\n",
    "\n",
    "\n",
    "def make_drink(type):\n",
    "    if type == 'tea':\n",
    "        return TeaFactory().prepare(200)\n",
    "    elif type == 'coffee':\n",
    "        return CoffeeFactory().prepare(50)\n",
    "    else:\n",
    "        return None\n",
    "\n",
    "\n",
    "if __name__ == '__main__':\n",
    "    # entry = input('What kind of drink would you like?')\n",
    "    # drink = make_drink(entry)\n",
    "    # drink.consume()\n",
    "\n",
    "    hdm = HotDrinkMachine()\n",
    "    drink = hdm.make_drink()\n",
    "    drink.consume()\n"
   ]
  },
  {
   "cell_type": "markdown",
   "id": "da64c688",
   "metadata": {},
   "source": [
    "## Prototype\n",
    "\n",
    "* We make copy(clone) the prototype and customize it"
   ]
  },
  {
   "cell_type": "code",
   "execution_count": 6,
   "id": "2be92d66",
   "metadata": {},
   "outputs": [
    {
     "name": "stdout",
     "output_type": "stream",
     "text": [
      "John lives at 123 London Road, London, UK\n",
      "John lives at 123 London Road, London, UK Jane lives at 124 London Road, London, UK\n"
     ]
    }
   ],
   "source": [
    "import copy\n",
    "\n",
    "\n",
    "class Address:\n",
    "    def __init__(self, street_address, city, country):\n",
    "        self.country = country\n",
    "        self.city = city\n",
    "        self.street_address = street_address\n",
    "\n",
    "    def __str__(self):\n",
    "        return f'{self.street_address}, {self.city}, {self.country}'\n",
    "\n",
    "\n",
    "class Person:\n",
    "    def __init__(self, name, address):\n",
    "        self.name = name\n",
    "        self.address = address\n",
    "\n",
    "    def __str__(self):\n",
    "        return f'{self.name} lives at {self.address}'\n",
    "\n",
    "\n",
    "john = Person(\"John\", Address(\"123 London Road\", \"London\", \"UK\"))\n",
    "print(john)\n",
    "# jane = john\n",
    "jane = copy.deepcopy(john)\n",
    "jane.name = \"Jane\"\n",
    "jane.address.street_address = \"124 London Road\"\n",
    "print(john, jane)\n"
   ]
  },
  {
   "cell_type": "markdown",
   "id": "bd4ee57b",
   "metadata": {},
   "source": [
    "## Singleton\n",
    "A component which is instantiated only once\n",
    "* Database repository\n",
    "* Object factory"
   ]
  },
  {
   "cell_type": "code",
   "execution_count": 7,
   "id": "410df062",
   "metadata": {},
   "outputs": [
    {
     "name": "stdout",
     "output_type": "stream",
     "text": [
      "Loading database\n",
      "True\n"
     ]
    }
   ],
   "source": [
    "def singleton(class_):\n",
    "    instances = {}\n",
    "\n",
    "    def get_instance(*args, **kwargs):\n",
    "        if class_ not in instances:\n",
    "            instances[class_] = class_(*args, **kwargs)\n",
    "        return instances[class_]\n",
    "\n",
    "    return get_instance\n",
    "\n",
    "\n",
    "@singleton\n",
    "class Database:\n",
    "    def __init__(self):\n",
    "        print('Loading database')\n",
    "\n",
    "\n",
    "if __name__ == '__main__':\n",
    "    d1 = Database()\n",
    "    d2 = Database()\n",
    "    print(d1 == d2)"
   ]
  },
  {
   "cell_type": "markdown",
   "id": "55567ee2",
   "metadata": {},
   "source": [
    "## Object Pool"
   ]
  },
  {
   "cell_type": "code",
   "execution_count": 10,
   "id": "ea337c27",
   "metadata": {},
   "outputs": [
    {
     "name": "stdout",
     "output_type": "stream",
     "text": [
      "Using obj 139760530802624\n",
      "Using obj 139760530815392\n",
      "Using obj 139760530802624\n",
      "Using obj 139760530815392\n"
     ]
    }
   ],
   "source": [
    "class PoolManager:\n",
    "    def __init__(self, pool):\n",
    "        self.pool = pool\n",
    "    def __enter__(self):\n",
    "        self.obj = self.pool.acquire()\n",
    "        return self.obj\n",
    "    def __exit__(self, type, value, traceback):\n",
    "        self.pool.release(self.obj)\n",
    "        \n",
    "class Reusable:\n",
    "    def test(self):\n",
    "        print(f\"Using obj {id(self)}\")\n",
    "\n",
    "class ReusablePool:\n",
    "    def __init__(self, size):\n",
    "        self.size   = size\n",
    "        self.free   = []\n",
    "        self.in_use = []\n",
    "        for _ in range(size):\n",
    "            self.free.append(Reusable())\n",
    "    def acquire(self) -> Reusable:\n",
    "        if len(self.free) <= 0:\n",
    "            raise Exception(\"No more object are available\")\n",
    "        r = self.free[0]\n",
    "        self.free.remove(r)\n",
    "        self.in_use.append(r)\n",
    "        return r\n",
    "    def release(self, r :Reusable):\n",
    "        self.in_use.remove(r)\n",
    "        self.free.append(r)\n",
    "\n",
    "pool = ReusablePool(2)\n",
    "\n",
    "with PoolManager(pool) as r:\n",
    "    r.test()\n",
    "with PoolManager(pool) as r:\n",
    "    r.test()\n",
    "with PoolManager(pool) as r:\n",
    "    r.test()\n",
    "with PoolManager(pool) as r:\n",
    "    r.test()"
   ]
  }
 ],
 "metadata": {
  "kernelspec": {
   "display_name": "Python 3 (ipykernel)",
   "language": "python",
   "name": "python3"
  },
  "language_info": {
   "codemirror_mode": {
    "name": "ipython",
    "version": 3
   },
   "file_extension": ".py",
   "mimetype": "text/x-python",
   "name": "python",
   "nbconvert_exporter": "python",
   "pygments_lexer": "ipython3",
   "version": "3.10.5"
  }
 },
 "nbformat": 4,
 "nbformat_minor": 5
}
