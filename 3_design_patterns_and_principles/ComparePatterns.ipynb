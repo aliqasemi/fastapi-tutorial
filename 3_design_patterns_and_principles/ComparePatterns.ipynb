{
 "cells": [
  {
   "cell_type": "markdown",
   "id": "1bd64648",
   "metadata": {},
   "source": [
    "## INHERITANCE vs COMPOSITION"
   ]
  },
  {
   "cell_type": "code",
   "execution_count": 2,
   "id": "9215bfaf",
   "metadata": {},
   "outputs": [
    {
     "data": {
      "text/plain": [
       "Seller(first_name='Jafar', last_name='panahi', commission=6987.99)"
      ]
     },
     "execution_count": 2,
     "metadata": {},
     "output_type": "execute_result"
    }
   ],
   "source": [
    "from dataclasses import dataclass\n",
    "from abc import ABC, abstractmethod\n",
    "\n",
    "@dataclass\n",
    "class Employee(ABC):\n",
    "    first_name: str\n",
    "    last_name : str\n",
    "\n",
    "@dataclass\n",
    "class Developer(Employee):\n",
    "    ...\n",
    "\n",
    "@dataclass\n",
    "class Hr(Employee):\n",
    "    ...\n",
    "    \n",
    "@dataclass\n",
    "class Seller(Employee):\n",
    "    commission: float = 100\n",
    "    \n",
    "@dataclass\n",
    "class Frontend(Developer):\n",
    "    ...\n",
    "    \n",
    "@dataclass\n",
    "class Backend(Developer):\n",
    "    ...\n",
    "    \n",
    "@dataclass\n",
    "class FrontEndUi(Frontend):\n",
    "    ...\n",
    "\n",
    "@dataclass\n",
    "class FrontEndLogic(Frontend):\n",
    "    ...\n",
    "    \n",
    "FrontEndUi(\"Amir\", \"Baregar\")\n",
    "Seller(\"Jafar\", \"panahi\", 6987.99)"
   ]
  },
  {
   "cell_type": "code",
   "execution_count": 3,
   "id": "14fa4464",
   "metadata": {},
   "outputs": [
    {
     "name": "stdout",
     "output_type": "stream",
     "text": [
      "5000\n",
      "1100\n"
     ]
    }
   ],
   "source": [
    "from dataclasses import dataclass\n",
    "from abc import ABC, abstractmethod\n",
    "from typing import Optional\n",
    "from enum import Enum, auto\n",
    "\n",
    "\n",
    "class Role(Enum):\n",
    "    FRONTEND = auto()\n",
    "    BACKEND = auto()\n",
    "    HR = auto()\n",
    "    SELLER = auto()\n",
    "\n",
    "    def __str__(self):\n",
    "        return f'{self.name(self.value)}'\n",
    "\n",
    "@dataclass\n",
    "class Commission:\n",
    "    commission: float = 100\n",
    "    selles:     int   = 0\n",
    "        \n",
    "    def get_payment(self):\n",
    "        return self.selles * self.commission\n",
    "\n",
    "@dataclass\n",
    "class Contract(ABC):\n",
    "        \n",
    "    @abstractmethod\n",
    "    def get_payment(self) -> float:\n",
    "        \"\"\"Compute how much pay for  employee under contract\"\"\"\n",
    "\n",
    "@dataclass\n",
    "class HourlyContract(Contract):\n",
    "    pay_rate: float = 0\n",
    "    hours_worked:  int = 0\n",
    "    employee_cost:  int|None = 0\n",
    "        \n",
    "    def get_payment(self) -> float:\n",
    "        return (self.pay_rate * self.hours_worked \n",
    "                + self.employee_cost)\n",
    "    \n",
    "@dataclass\n",
    "class SalaryContract(Contract):\n",
    "    monthly_salary: float = 0\n",
    "    persentage:  int = 0\n",
    "        \n",
    "    def get_payment(self) -> float:\n",
    "        return self.monthly_salary * self.persentage\n",
    "    \n",
    "    \n",
    "@dataclass\n",
    "class Employee:\n",
    "    first_name: str\n",
    "    last_name : str\n",
    "    contract: Contract\n",
    "    role: Role\n",
    "    commission: Optional[Commission] = None\n",
    "    \n",
    "        \n",
    "    def compute_pay(self):\n",
    "        payout = self.contract.get_payment()\n",
    "        \n",
    "        if self.commission:\n",
    "            payout += self.commission.get_payment()\n",
    "            \n",
    "        return payout\n",
    "\n",
    "sara_contract = HourlyContract(pay_rate=50, hours_worked=100)\n",
    "sara          = Employee(first_name=\"sara\", last_name=\"sarai\", contract=sara_contract, role=Role(2))\n",
    "print(sara.compute_pay())\n",
    "dara_commission = Commission(selles=10)\n",
    "dara_contract = SalaryContract(monthly_salary=50, persentage=2)\n",
    "dara          = Employee(first_name=\"dara\", last_name=\"darai\", contract=dara_contract, role=Role(1), commission=dara_commission)\n",
    "print(dara.compute_pay())"
   ]
  },
  {
   "cell_type": "markdown",
   "id": "994ab79c",
   "metadata": {},
   "source": [
    "## Dependency INVERSION vs dependency INJECTION\n",
    "* dependency is object that the class have a direct relationship with <br /> in other word class and that object are coupled <br />\n",
    "* dependency injection is a design pattern if a class need an object that class should not be responsible for creating that object\n",
    "* dependency inversion is a principle part of the solid principles it need abstraction or different class for creation \n",
    "* in other word without dependency injection there is no dependency inversion"
   ]
  },
  {
   "cell_type": "code",
   "execution_count": 4,
   "id": "0d4af079",
   "metadata": {},
   "outputs": [],
   "source": [
    "class DrinkInvoice:\n",
    "    def auth(self): pass\n",
    "    def payment(self): pass\n",
    "    def print_result(self): pass\n",
    "    def drink_color(self): pass\n",
    "    \n",
    "class InvoiceProcessor:\n",
    "    def pay():\n",
    "        drink_invoice = DrinkInvoice()\n",
    "        drink_invoice.auth()\n",
    "        drink_invoice.payment()\n"
   ]
  },
  {
   "cell_type": "code",
   "execution_count": 5,
   "id": "1cf83379",
   "metadata": {},
   "outputs": [],
   "source": [
    "\"\"\"Dependency injection\"\"\"\n",
    "class DrinkInvoice:\n",
    "    def auth(self): pass\n",
    "    def payment(self): pass\n",
    "    def print_result(self): pass\n",
    "    def drink_color(self): pass\n",
    "    \n",
    "class InvoiceProcessor:\n",
    "    def __init__(self, drink_invoice: DrinkInvoice):\n",
    "        self.drink_invoice = drink_invoice\n",
    "    def pay():\n",
    "        self.drink_invoice.auth()\n",
    "        self.drink_invoice.payment()\n"
   ]
  },
  {
   "cell_type": "code",
   "execution_count": 6,
   "id": "481786d0",
   "metadata": {},
   "outputs": [],
   "source": [
    "\"\"\"Dependency inversion\"\"\"\n",
    "from abc import ABC, abstractmethod\n",
    "\n",
    "class Invoice(ABC):\n",
    "    @abstractmethod\n",
    "    def auth: pass\n",
    "    @abstractmethod\n",
    "    def payment(self): pass\n",
    "    @abstractmethod\n",
    "    def print_result(self): pass\n",
    "    \n",
    "class DrinkInvoice(Invoice):\n",
    "    def auth(self): pass\n",
    "    def payment(self): pass\n",
    "    def print_result(self): pass\n",
    "    def drink_color(self): pass\n",
    "    \n",
    "    \n",
    "class InvoiceProcessor:\n",
    "    def __init__(self, invoice: Invoice):\n",
    "        self.invoice = invoice\n",
    "    def pay():\n",
    "        self.invoice.auth()\n",
    "        self.invoice.payment()\n"
   ]
  },
  {
   "cell_type": "markdown",
   "id": "84ee39e1",
   "metadata": {},
   "source": [
    "## Proxy vs Decorator\n",
    "* proxy provides an identical interface decorator  provides an enhanced interface <br />\n",
    "* Decorator typically aggregates or hase reference to what it is decorating; proxy doesn't have to "
   ]
  },
  {
   "cell_type": "markdown",
   "id": "33156ea3",
   "metadata": {},
   "source": [
    "## Template Method vs strategy\n",
    "* template method and strategy patterns are pretty similar\n",
    "* template method use inheritance and template method with blank functions\n",
    "* strategy use an interface that you have to conform to"
   ]
  },
  {
   "cell_type": "code",
   "execution_count": null,
   "id": "a640a118",
   "metadata": {},
   "outputs": [],
   "source": []
  }
 ],
 "metadata": {
  "kernelspec": {
   "display_name": "Python 3 (ipykernel)",
   "language": "python",
   "name": "python3"
  },
  "language_info": {
   "codemirror_mode": {
    "name": "ipython",
    "version": 3
   },
   "file_extension": ".py",
   "mimetype": "text/x-python",
   "name": "python",
   "nbconvert_exporter": "python",
   "pygments_lexer": "ipython3",
   "version": "3.10.5"
  }
 },
 "nbformat": 4,
 "nbformat_minor": 5
}
