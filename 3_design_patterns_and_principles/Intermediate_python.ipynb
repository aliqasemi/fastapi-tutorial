{
 "cells": [
  {
   "cell_type": "markdown",
   "id": "64ae69f0",
   "metadata": {},
   "source": [
    "# Python Intermediate"
   ]
  },
  {
   "cell_type": "markdown",
   "id": "cc606a31",
   "metadata": {},
   "source": [
    "## 1 - Property Decorators"
   ]
  },
  {
   "cell_type": "code",
   "execution_count": 13,
   "id": "9a2c9814",
   "metadata": {},
   "outputs": [
    {
     "name": "stdout",
     "output_type": "stream",
     "text": [
      "amir#47083\n",
      "amir#47083\n",
      "ahmad bahador\n"
     ]
    }
   ],
   "source": [
    "from random import randint\n",
    "\n",
    "class Student:\n",
    "    def __init__(self, first_name: str, last_name: str):\n",
    "        self.first_name = first_name\n",
    "        self.last_name  = last_name\n",
    "        self.id         = f\"{first_name}#{randint(10000, 99999)}\"\n",
    "    def full_name(self):\n",
    "        return f\"{self.first_name} {self.last_name}\"\n",
    "    def __str__(self):\n",
    "        return self.id\n",
    "    \n",
    "s = Student(\"amir\", \"bahador\")\n",
    "print(s)\n",
    "s.first_name = \"ahmad\"\n",
    "print(s)\n",
    "print(s.full_name())"
   ]
  },
  {
   "cell_type": "code",
   "execution_count": 14,
   "id": "d4b278ae",
   "metadata": {},
   "outputs": [
    {
     "name": "stdout",
     "output_type": "stream",
     "text": [
      "amir#48969\n",
      "ahmad#23463\n",
      "ahmad bahador\n"
     ]
    }
   ],
   "source": [
    "from random import randint\n",
    "\n",
    "class Student:\n",
    "    def __init__(self, first_name: str, last_name: str):\n",
    "        self.first_name = first_name\n",
    "        self.last_name  = last_name\n",
    "        \n",
    "    @property\n",
    "    def id(self):\n",
    "        return f\"{self.first_name}#{randint(10000, 99999)}\"\n",
    "    \n",
    "    @property\n",
    "    def full_name(self):\n",
    "        return f\"{self.first_name} {self.last_name}\"\n",
    "    \n",
    "    def __str__(self):\n",
    "        return self.id\n",
    "    \n",
    "s = Student(\"amir\", \"bahador\")\n",
    "print(s)\n",
    "s.first_name = \"ahmad\"\n",
    "print(s)\n",
    "print(s.full_name)"
   ]
  },
  {
   "cell_type": "code",
   "execution_count": 19,
   "id": "1314c14f",
   "metadata": {},
   "outputs": [
    {
     "name": "stdout",
     "output_type": "stream",
     "text": [
      "amir#87472\n",
      "ahmad#95574\n",
      "ahmad bahador\n",
      "first_name and last_name deleted!\n"
     ]
    }
   ],
   "source": [
    "from random import randint\n",
    "\n",
    "class Student:\n",
    "    def __init__(self, first_name: str, last_name: str):\n",
    "        self.first_name = first_name\n",
    "        self.last_name  = last_name\n",
    "        \n",
    "    @property\n",
    "    def id(self):\n",
    "        return f\"{self.first_name}#{randint(10000, 99999)}\"\n",
    "    \n",
    "    @property\n",
    "    def full_name(self):\n",
    "        return f\"{self.first_name} {self.last_name}\"\n",
    "    \n",
    "    @full_name.setter\n",
    "    def full_name(self, name):\n",
    "        self.first_name, self.last_name = name.split()\n",
    "        \n",
    "    @full_name.deleter\n",
    "    def full_name(self):\n",
    "        self.first_name, self.last_name = None, None\n",
    "        print(\"first_name and last_name deleted!\")\n",
    "    \n",
    "    def __str__(self):\n",
    "        return self.id\n",
    "    \n",
    "s = Student(\"amir\", \"bahador\")\n",
    "print(s)\n",
    "s.full_name = \"ahmad bahador\"\n",
    "print(s)\n",
    "print(s.full_name)\n",
    "del s.full_name\n"
   ]
  },
  {
   "cell_type": "markdown",
   "id": "531b162a",
   "metadata": {},
   "source": [
    "## 2 - Generators"
   ]
  },
  {
   "cell_type": "code",
   "execution_count": 40,
   "id": "7e1d506a",
   "metadata": {},
   "outputs": [
    {
     "name": "stdout",
     "output_type": "stream",
     "text": [
      "0\n",
      "1\n",
      "4\n",
      "9\n",
      "16\n",
      "25\n",
      "36\n",
      "49\n",
      "64\n",
      "81\n",
      "100\n",
      "121\n",
      "144\n",
      "169\n",
      "196\n",
      "225\n",
      "256\n",
      "289\n",
      "324\n",
      "361\n"
     ]
    }
   ],
   "source": [
    "def power_two(nums: list) -> list:\n",
    "    nums_p2 = list()\n",
    "    for num in nums:\n",
    "        nums_p2.append(num*num)\n",
    "    return nums_p2\n",
    "\n",
    "def run():\n",
    "    p1 = [a for a in range(20)]\n",
    "    p2 = power_two(p1)\n",
    "    \n",
    "    for a in p2:\n",
    "        print(f\"{a}\")\n",
    "run()"
   ]
  },
  {
   "cell_type": "code",
   "execution_count": 41,
   "id": "cbc8dac4",
   "metadata": {},
   "outputs": [
    {
     "name": "stdout",
     "output_type": "stream",
     "text": [
      "0\n",
      "1\n",
      "4\n",
      "9\n",
      "16\n",
      "25\n",
      "36\n",
      "49\n",
      "64\n",
      "81\n",
      "100\n",
      "121\n",
      "144\n",
      "169\n",
      "196\n",
      "225\n",
      "256\n",
      "289\n",
      "324\n",
      "361\n"
     ]
    }
   ],
   "source": [
    "def power_two(nums: list) :\n",
    "    for num in nums:\n",
    "        yield num*num\n",
    "\n",
    "def run():\n",
    "    p1 = [a for a in range(20)]\n",
    "    p2 = power_two(p1)\n",
    "    for a in p2:\n",
    "        print(f\"{a}\")\n",
    "\n",
    "run()        "
   ]
  },
  {
   "cell_type": "markdown",
   "id": "abef3484",
   "metadata": {},
   "source": [
    "## 3 - Context Manager"
   ]
  },
  {
   "cell_type": "code",
   "execution_count": null,
   "id": "e93d0fb4",
   "metadata": {},
   "outputs": [],
   "source": [
    "from contextlib import contextmanager\n",
    "\n",
    "@contextmanager\n",
    "def managed_file(name):\n",
    "    try:\n",
    "        f = open(name, 'w')\n",
    "        yield f\n",
    "    finally:\n",
    "        f.close()\n",
    "\n",
    "with managed_file('hello.txt') as f:\n",
    "    f.write('hello, World!')\n",
    "    f.write('bye now')"
   ]
  },
  {
   "cell_type": "code",
   "execution_count": 42,
   "id": "52c731ff",
   "metadata": {},
   "outputs": [
    {
     "name": "stdout",
     "output_type": "stream",
     "text": [
      " hi!\n",
      "  hello\n",
      "   OY\n",
      " BYE\n"
     ]
    }
   ],
   "source": [
    "\"\"\"\n",
    "class based\n",
    "\"\"\"\n",
    "class Indenter:\n",
    "    def __init__(self):\n",
    "        self.level = 0\n",
    "    def __enter__(self):\n",
    "        self.level += 1\n",
    "        return self\n",
    "    def __exit__(self, exc_type, exc_val, exc_tb):\n",
    "        self.level -= 1\n",
    "        \n",
    "    def print(self, text):\n",
    "        print(' '* self.level + text)\n",
    "\n",
    "with Indenter() as indent:\n",
    "    indent.print('hi!')\n",
    "    with indent:\n",
    "        indent.print('hello')\n",
    "        with indent:\n",
    "            indent.print('OY')\n",
    "    indent.print(\"BYE\")"
   ]
  },
  {
   "cell_type": "markdown",
   "id": "1db270ce",
   "metadata": {},
   "source": [
    "## 4 - ABC vs Protocol"
   ]
  },
  {
   "cell_type": "code",
   "execution_count": 46,
   "id": "d31fa579",
   "metadata": {},
   "outputs": [
    {
     "data": {
      "text/plain": [
       "<__main__.Mysql at 0x7f2d702b23b0>"
      ]
     },
     "execution_count": 46,
     "metadata": {},
     "output_type": "execute_result"
    }
   ],
   "source": [
    "class DB(ABC):\n",
    "    \n",
    "    \n",
    "    def connect(self):\n",
    "        ...\n",
    "   \n",
    "    def disconnect(self):\n",
    "        ...\n",
    "\n",
    "class Mysql(DB):\n",
    "    pass\n",
    "\n",
    "Mysql()"
   ]
  },
  {
   "cell_type": "code",
   "execution_count": 49,
   "id": "8f69922a",
   "metadata": {},
   "outputs": [
    {
     "data": {
      "text/plain": [
       "<__main__.Mysql at 0x7f2d6179e440>"
      ]
     },
     "execution_count": 49,
     "metadata": {},
     "output_type": "execute_result"
    }
   ],
   "source": [
    "\n",
    "class DB:\n",
    "    \n",
    "    def connect(self):\n",
    "        raise NotImplementedError\n",
    "    \n",
    "    def disconnect(self):\n",
    "        raise NotImplementedError\n",
    "\n",
    "class Mysql(DB):\n",
    "    pass\n",
    "\n",
    "Mysql()"
   ]
  },
  {
   "cell_type": "code",
   "execution_count": 51,
   "id": "8120bb1b",
   "metadata": {},
   "outputs": [
    {
     "data": {
      "text/plain": [
       "<__main__.Mysql at 0x7f2d702b0ee0>"
      ]
     },
     "execution_count": 51,
     "metadata": {},
     "output_type": "execute_result"
    }
   ],
   "source": [
    "from abc import ABC, abstractmethod\n",
    "\n",
    "class DB(ABC):\n",
    "    \n",
    "    @abstractmethod\n",
    "    def connect(self):\n",
    "        ...\n",
    "    @abstractmethod\n",
    "    def disconnect(self):\n",
    "        ...\n",
    "\n",
    "class Mysql(DB):\n",
    "    def connect(self):\n",
    "        ...\n",
    "   \n",
    "    def disconnect(self):\n",
    "        ...\n",
    "\n",
    "\n",
    "Mysql()"
   ]
  },
  {
   "cell_type": "code",
   "execution_count": 1,
   "id": "aad33dee",
   "metadata": {},
   "outputs": [
    {
     "ename": "AttributeError",
     "evalue": "'Mysql' object has no attribute 'connect'",
     "output_type": "error",
     "traceback": [
      "\u001b[0;31m---------------------------------------------------------------------------\u001b[0m",
      "\u001b[0;31mAttributeError\u001b[0m                            Traceback (most recent call last)",
      "Input \u001b[0;32mIn [1]\u001b[0m, in \u001b[0;36m<cell line: 21>\u001b[0;34m()\u001b[0m\n\u001b[1;32m     18\u001b[0m     datab\u001b[38;5;241m.\u001b[39mconnect()\n\u001b[1;32m     20\u001b[0m a \u001b[38;5;241m=\u001b[39m Mysql()\n\u001b[0;32m---> 21\u001b[0m \u001b[43mconnect_db\u001b[49m\u001b[43m(\u001b[49m\u001b[43ma\u001b[49m\u001b[43m)\u001b[49m\n",
      "Input \u001b[0;32mIn [1]\u001b[0m, in \u001b[0;36mconnect_db\u001b[0;34m(datab)\u001b[0m\n\u001b[1;32m     17\u001b[0m \u001b[38;5;28;01mdef\u001b[39;00m \u001b[38;5;21mconnect_db\u001b[39m(datab: DB):\n\u001b[0;32m---> 18\u001b[0m     \u001b[43mdatab\u001b[49m\u001b[38;5;241;43m.\u001b[39;49m\u001b[43mconnect\u001b[49m()\n",
      "\u001b[0;31mAttributeError\u001b[0m: 'Mysql' object has no attribute 'connect'"
     ]
    }
   ],
   "source": [
    "from typing import Protocol\n",
    "\n",
    "class DB(Protocol):\n",
    "    \n",
    "    \n",
    "    def connect(self) -> None:\n",
    "        ...\n",
    "    \n",
    "    def disconnect(self) -> None:\n",
    "        ...\n",
    "        \n",
    "\n",
    "class Mysql:\n",
    "    ...\n",
    "\n",
    "\n",
    "def connect_db(datab: DB):\n",
    "    datab.connect()\n",
    "    \n",
    "a = Mysql()\n",
    "connect_db(a)"
   ]
  },
  {
   "cell_type": "markdown",
   "id": "66b063d7",
   "metadata": {},
   "source": [
    "## 5 - DuckType"
   ]
  },
  {
   "cell_type": "code",
   "execution_count": 9,
   "id": "b37ac8e0",
   "metadata": {},
   "outputs": [
    {
     "name": "stdout",
     "output_type": "stream",
     "text": [
      "Quack Quack\n",
      "Flap Flap\n",
      "\n",
      "I'm Quacking like a duck!\n",
      "I'm flapping my Arms!\n",
      "\n",
      "-----------------------------\n",
      "Quack Quack\n",
      "Flap Flap\n",
      "\n",
      "it has to be a duck\n"
     ]
    }
   ],
   "source": [
    "class Duck:\n",
    "    def quack(self):\n",
    "        print(\"Quack Quack\")\n",
    "    def fly(self):\n",
    "        print(\"Flap Flap\")\n",
    "\n",
    "class Person:\n",
    "    def quack(self):\n",
    "        print(\"I'm Quacking like a duck!\")\n",
    "    def fly(self):\n",
    "        print(\"I'm flapping my Arms!\")\n",
    "        \n",
    "def fly_and_quack(thing, duck_type=True):\n",
    "    if duck_type:\n",
    "        thing.quack()\n",
    "        thing.fly()\n",
    "        print()\n",
    "    else:\n",
    "        if isinstance(thing, Duck):\n",
    "            thing.quack()\n",
    "            thing.fly()\n",
    "            print()\n",
    "        else:\n",
    "            print(\"it has to be a duck\")\n",
    "\n",
    "d = Duck()\n",
    "p = Person()\n",
    "\n",
    "fly_and_quack(d)\n",
    "fly_and_quack(p)\n",
    "print(\"-----------------------------\")\n",
    "fly_and_quack(d, duck_type=False)\n",
    "fly_and_quack(p, duck_type=False)"
   ]
  },
  {
   "cell_type": "markdown",
   "id": "5de59cdb",
   "metadata": {},
   "source": [
    "## 6 - Event\n",
    "event is something that happens and you want to be able to get notification when something happens."
   ]
  },
  {
   "cell_type": "code",
   "execution_count": 25,
   "id": "72518e83",
   "metadata": {},
   "outputs": [
    {
     "name": "stdout",
     "output_type": "stream",
     "text": [
      "hi\n",
      "by\n"
     ]
    }
   ],
   "source": [
    "class Event(list):\n",
    "\n",
    "    def __call__(self, *args, **kwargs):\n",
    "        for item in self:\n",
    "            item(*args, **kwargs)\n",
    "def hi():\n",
    "    print(f\"hi\")\n",
    "def by():\n",
    "    print(\"by\")\n",
    "    \n",
    "e = Event()\n",
    "e.append(hi)\n",
    "e.append(by)\n",
    "e()"
   ]
  },
  {
   "cell_type": "code",
   "execution_count": null,
   "id": "3f2f47b7",
   "metadata": {},
   "outputs": [],
   "source": []
  }
 ],
 "metadata": {
  "kernelspec": {
   "display_name": "Python 3 (ipykernel)",
   "language": "python",
   "name": "python3"
  },
  "language_info": {
   "codemirror_mode": {
    "name": "ipython",
    "version": 3
   },
   "file_extension": ".py",
   "mimetype": "text/x-python",
   "name": "python",
   "nbconvert_exporter": "python",
   "pygments_lexer": "ipython3",
   "version": "3.10.5"
  }
 },
 "nbformat": 4,
 "nbformat_minor": 5
}
